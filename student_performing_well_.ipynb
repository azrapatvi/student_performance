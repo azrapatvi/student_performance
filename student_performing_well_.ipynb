{
  "nbformat": 4,
  "nbformat_minor": 0,
  "metadata": {
    "colab": {
      "provenance": []
    },
    "kernelspec": {
      "name": "python3",
      "display_name": "Python 3"
    },
    "language_info": {
      "name": "python"
    }
  },
  "cells": [
    {
      "cell_type": "code",
      "execution_count": 1,
      "metadata": {
        "colab": {
          "base_uri": "https://localhost:8080/"
        },
        "id": "LIj8JQbRmjTR",
        "outputId": "c5b0e1d2-7b16-4f71-9c61-ebe0646b2342"
      },
      "outputs": [
        {
          "output_type": "stream",
          "name": "stdout",
          "text": [
            "[41.  43.3 42.1]\n"
          ]
        }
      ],
      "source": [
        "#with this we can find out the \"is the student performing well?\" in subjects or overalll\n",
        "import numpy as np\n",
        "\n",
        "#5 subject marks and each row is of 1 student\n",
        "x = np.array([\n",
        "    [20, 20, 19, 13, 15],  # Student 1\n",
        "    [20, 19, 19, 17, 17],  # Student 2\n",
        "    [18, 18, 20, 17, 16]   # Student 3\n",
        "])\n",
        "\n",
        "w=np.array([0.4,0.5,0.5,0.5,0.4]) #weightt\n",
        "\n",
        "b=1\n",
        "\n",
        "z=np.dot(x,w)+b\n",
        "print(z)"
      ]
    }
  ]
}